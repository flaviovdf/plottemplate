{
  "nbformat": 4,
  "nbformat_minor": 0,
  "metadata": {
    "colab": {
      "name": "PlotsACM.ipynb",
      "provenance": [],
      "include_colab_link": true
    },
    "kernelspec": {
      "name": "python3",
      "display_name": "Python 3"
    },
    "language_info": {
      "name": "python"
    }
  },
  "cells": [
    {
      "cell_type": "markdown",
      "metadata": {
        "id": "view-in-github",
        "colab_type": "text"
      },
      "source": [
        "<a href=\"https://colab.research.google.com/github/flaviovdf/plottemplate/blob/main/PlotsACM.ipynb\" target=\"_parent\"><img src=\"https://colab.research.google.com/assets/colab-badge.svg\" alt=\"Open In Colab\"/></a>"
      ]
    },
    {
      "cell_type": "code",
      "metadata": {
        "colab": {
          "base_uri": "https://localhost:8080/"
        },
        "id": "VyBSVrnW4x_g",
        "outputId": "fa491b54-8c95-469f-a0ac-c43231a2749f"
      },
      "source": [
        "!pip install matplotlib --upgrade"
      ],
      "execution_count": 1,
      "outputs": [
        {
          "output_type": "stream",
          "name": "stdout",
          "text": [
            "Requirement already satisfied: matplotlib in /usr/local/lib/python3.7/dist-packages (3.5.0)\n",
            "Requirement already satisfied: setuptools-scm>=4 in /usr/local/lib/python3.7/dist-packages (from matplotlib) (6.3.2)\n",
            "Requirement already satisfied: pillow>=6.2.0 in /usr/local/lib/python3.7/dist-packages (from matplotlib) (7.1.2)\n",
            "Requirement already satisfied: python-dateutil>=2.7 in /usr/local/lib/python3.7/dist-packages (from matplotlib) (2.8.2)\n",
            "Requirement already satisfied: packaging>=20.0 in /usr/local/lib/python3.7/dist-packages (from matplotlib) (21.3)\n",
            "Requirement already satisfied: kiwisolver>=1.0.1 in /usr/local/lib/python3.7/dist-packages (from matplotlib) (1.3.2)\n",
            "Requirement already satisfied: fonttools>=4.22.0 in /usr/local/lib/python3.7/dist-packages (from matplotlib) (4.28.3)\n",
            "Requirement already satisfied: pyparsing>=2.2.1 in /usr/local/lib/python3.7/dist-packages (from matplotlib) (3.0.6)\n",
            "Requirement already satisfied: numpy>=1.17 in /usr/local/lib/python3.7/dist-packages (from matplotlib) (1.19.5)\n",
            "Requirement already satisfied: cycler>=0.10 in /usr/local/lib/python3.7/dist-packages (from matplotlib) (0.11.0)\n",
            "Requirement already satisfied: six>=1.5 in /usr/local/lib/python3.7/dist-packages (from python-dateutil>=2.7->matplotlib) (1.15.0)\n",
            "Requirement already satisfied: tomli>=1.0.0 in /usr/local/lib/python3.7/dist-packages (from setuptools-scm>=4->matplotlib) (1.2.2)\n",
            "Requirement already satisfied: setuptools in /usr/local/lib/python3.7/dist-packages (from setuptools-scm>=4->matplotlib) (57.4.0)\n"
          ]
        }
      ]
    },
    {
      "cell_type": "code",
      "metadata": {
        "id": "WXzZjzomzXaM"
      },
      "source": [
        "# -*- coding: utf8\n",
        "\n",
        "import numpy as np\n",
        "import matplotlib.pyplot as plt\n",
        "import pandas as pd"
      ],
      "execution_count": 2,
      "outputs": []
    },
    {
      "cell_type": "code",
      "metadata": {
        "id": "NDh4QwlR221d"
      },
      "source": [
        "# 3.3 polegadas de largura, 1.65 * isso (golden ratio) altura\n",
        "plt.rcParams['figure.figsize'] = (3.3, 3.3  / 1.65)\n",
        "\n",
        "plt.rcParams['axes.axisbelow'] = True \n",
        "plt.rcParams['axes.labelsize'] = 10\n",
        "plt.rcParams['axes.linewidth'] = 1\n",
        "plt.rcParams['axes.spines.bottom'] = True\n",
        "plt.rcParams['axes.spines.left'] = True\n",
        "plt.rcParams['axes.titlesize'] = 10\n",
        "plt.rcParams['axes.ymargin'] = 0.1\n",
        "\n",
        "plt.rcParams['font.family'] = 'serif'\n",
        "\n",
        "plt.rcParams['axes.grid'] = True\n",
        "plt.rcParams['grid.color'] = 'lightgrey'\n",
        "plt.rcParams['grid.linewidth'] = .1\n",
        "\n",
        "plt.rcParams['xtick.labelsize'] = 10\n",
        "plt.rcParams['xtick.bottom'] = True\n",
        "plt.rcParams['xtick.direction'] = 'out' \n",
        "plt.rcParams['xtick.major.size'] = 5\n",
        "plt.rcParams['xtick.major.width'] = 1\n",
        "plt.rcParams['xtick.minor.size'] = 3\n",
        "plt.rcParams['xtick.minor.width'] = .5\n",
        "plt.rcParams['xtick.minor.visible'] = True\n",
        "\n",
        "plt.rcParams['ytick.labelsize'] = 10\n",
        "plt.rcParams['ytick.left'] = True\n",
        "plt.rcParams['ytick.direction'] = 'out'\n",
        "plt.rcParams['ytick.major.size'] = 5\n",
        "plt.rcParams['ytick.major.width'] = 1\n",
        "plt.rcParams['ytick.minor.size'] = 3\n",
        "plt.rcParams['ytick.minor.width'] = .5\n",
        "plt.rcParams['ytick.minor.visible'] = True\n",
        "\n",
        "plt.rcParams['legend.fontsize'] = 10\n",
        "\n",
        "plt.rcParams['lines.linewidth'] = 2\n",
        "plt.rcParams['lines.markersize'] = 5"
      ],
      "execution_count": 3,
      "outputs": []
    },
    {
      "cell_type": "code",
      "metadata": {
        "id": "qidLWsdY1Enp",
        "colab": {
          "base_uri": "https://localhost:8080/"
        },
        "outputId": "58b0580d-5b21-4eaf-fc52-f28f676ac1db"
      },
      "source": [
        "plt.style.use('tableau-colorblind10') # use um estilo colorblind!\n",
        "plt.ion()"
      ],
      "execution_count": 4,
      "outputs": [
        {
          "output_type": "execute_result",
          "data": {
            "text/plain": [
              "<matplotlib.pyplot._IonContext at 0x7f0198450c50>"
            ]
          },
          "metadata": {},
          "execution_count": 4
        }
      ]
    },
    {
      "cell_type": "code",
      "metadata": {
        "id": "2-7Six-w0Yx8"
      },
      "source": [
        "data_nrm = np.random.normal(size=500)\n",
        "data_plaw = np.random.zipf(1.5, size=500)"
      ],
      "execution_count": 5,
      "outputs": []
    },
    {
      "cell_type": "markdown",
      "metadata": {
        "id": "LU_g68jV31wZ"
      },
      "source": [
        "## Figura do tamanho de uma coluna"
      ]
    },
    {
      "cell_type": "code",
      "metadata": {
        "colab": {
          "base_uri": "https://localhost:8080/",
          "height": 153
        },
        "id": "2fvOeCCb025Z",
        "outputId": "1fbb159d-9e8c-437e-9c79-7848fa21de61"
      },
      "source": [
        "fig, ax = plt.subplots(1, 1)\n",
        "ax.hist(data_nrm, edgecolor='k')\n",
        "ax.set(xlabel='Label do Eixo X', ylabel='Label do Eixo Y')\n",
        "fig.tight_layout() # reduz espaço em branco nas laterais para quase 0\n",
        "plt.savefig('fig1.pdf') # sempre salve como pdf!"
      ],
      "execution_count": 6,
      "outputs": [
        {
          "output_type": "display_data",
          "data": {
            "image/png": "[encoded data removed]",
            "text/plain": [
              "<Figure size 237.6x144 with 1 Axes>"
            ]
          },
          "metadata": {
            "needs_background": "light"
          }
        }
      ]
    },
    {
      "cell_type": "markdown",
      "metadata": {
        "id": "SMrbdKiz4QZk"
      },
      "source": [
        "## Uma página de **Largura**"
      ]
    },
    {
      "cell_type": "code",
      "metadata": {
        "colab": {
          "base_uri": "https://localhost:8080/",
          "height": 358
        },
        "id": "wjuA1oGR04Rl",
        "outputId": "eacd023e-16d0-497b-d7b3-780f9841ea9a"
      },
      "source": [
        "fig, ax = plt.subplots(1, 1, figsize=(8, 8/1.65))\n",
        "ax.hist(data_nrm, edgecolor='k')\n",
        "ax.set(xlabel='Label do Eixo X', ylabel='Label do Eixo Y')\n",
        "fig.tight_layout()\n",
        "plt.savefig('fig2.pdf') # sempre salve como pdf!"
      ],
      "execution_count": 7,
      "outputs": [
        {
          "output_type": "display_data",
          "data": {
            "image/png": "[encoded data removed]",
            "text/plain": [
              "<Figure size 576x349.091 with 1 Axes>"
            ]
          },
          "metadata": {
            "needs_background": "light"
          }
        }
      ]
    },
    {
      "cell_type": "markdown",
      "metadata": {
        "id": "2FzUvoxzbVsB"
      },
      "source": [
        "## Exemplo de Scatter Plot de 1 coluna.\n",
        "## Obserne como uso alpha, edgecolor\n",
        "## Observe como coloco y e log devido aos dados"
      ]
    },
    {
      "cell_type": "code",
      "metadata": {
        "id": "CvjejApB05su",
        "colab": {
          "base_uri": "https://localhost:8080/",
          "height": 153
        },
        "outputId": "68d046a6-cccc-4c97-b9b0-d9c51cfcb7d8"
      },
      "source": [
        "fig, ax = plt.subplots(1, 1)\n",
        "ax.scatter(data_nrm, data_plaw,\n",
        "           color='grey',\n",
        "           edgecolor='k',\n",
        "           alpha=0.75)\n",
        "ax.set(xlabel='Label do Eixo X',\n",
        "       ylabel='Label do Eixo Y',\n",
        "       yscale='log')\n",
        "fig.tight_layout()"
      ],
      "execution_count": 8,
      "outputs": [
        {
          "output_type": "display_data",
          "data": {
            "image/png": "[encoded data removed]",
            "text/plain": [
              "<Figure size 237.6x144 with 1 Axes>"
            ]
          },
          "metadata": {
            "needs_background": "light"
          }
        }
      ]
    },
    {
      "cell_type": "markdown",
      "metadata": {
        "id": "DCi5v3PH_K53"
      },
      "source": [
        "## Exemplo com subplots mostrando os histogramas"
      ]
    },
    {
      "cell_type": "code",
      "metadata": {
        "id": "FUnbM_23NYhq",
        "colab": {
          "base_uri": "https://localhost:8080/",
          "height": 169
        },
        "outputId": "ff5bc4d8-a78e-431f-c37a-15b967b93e9d"
      },
      "source": [
        "def identify_axes(ax_dict, fontsize=48):\n",
        "    \"\"\"\n",
        "    Helper to identify the Axes in the examples below.\n",
        "\n",
        "    Draws the label in a large font in the center of the Axes.\n",
        "\n",
        "    Parameters\n",
        "    ----------\n",
        "    ax_dict : dict[str, Axes]\n",
        "        Mapping between the title / label and the Axes.\n",
        "    fontsize : int, optional\n",
        "        How big the label should be.\n",
        "    \"\"\"\n",
        "    kw = dict(ha=\"center\", va=\"center\", fontsize=fontsize, color=\"darkgrey\")\n",
        "    for k, ax in ax_dict.items():\n",
        "        ax.text(0.5, 0.5, k, transform=ax.transAxes, **kw)\n",
        "\n",
        "\n",
        "axd = plt.figure(constrained_layout=True).subplot_mosaic(\n",
        "    \"\"\"\n",
        "    AA.\n",
        "    CCD\n",
        "    CCD\n",
        "    CCD\n",
        "    \"\"\"\n",
        ")\n",
        "axd['A'].hist(data_nrm, edgecolor='k')\n",
        "axd['A'].tick_params(top=False, bottom=False, left=True, right=False,\n",
        "                     labelleft=True, labelbottom=False)\n",
        "\n",
        "axd['D'].hist(data_plaw, log=True, edgecolor='k', orientation='horizontal')\n",
        "axd['D'].set_xscale('log')\n",
        "axd['D'].set_yscale('log')\n",
        "axd['D'].tick_params(top=False, bottom=True, left=False, right=False,\n",
        "                     labelleft=False, labelbottom=True)\n",
        "\n",
        "axd['C'].hexbin(data_nrm, data_plaw,\n",
        "                bins='log', gridsize=20,\n",
        "                xscale='linear', yscale='log')\n",
        "\n",
        "fig.tight_layout()"
      ],
      "execution_count": 9,
      "outputs": [
        {
          "output_type": "display_data",
          "data": {
            "image/png": "[encoded data removed]",
            "text/plain": [
              "<Figure size 237.6x144 with 3 Axes>"
            ]
          },
          "metadata": {
            "needs_background": "light"
          }
        }
      ]
    },
    {
      "cell_type": "markdown",
      "metadata": {
        "id": "KwaUVn-L_Qyk"
      },
      "source": [
        "# Cores, cores, cores\n",
        "\n",
        "## Colormaps\n",
        "\n",
        "Leia: https://matplotlib.org/stable/tutorials/colors/colormaps.html e tente usar perceptually uniform para dados numéricos.\n",
        "\n",
        "Tente usar cores que ajudam o usuário.\n",
        "\n",
        "Observe como o mapa de cores JET (RUIM!) não diferencia bem uma sequencia de 20 até 100. A diferença de cores deveria ser uniforme."
      ]
    },
    {
      "cell_type": "code",
      "metadata": {
        "colab": {
          "base_uri": "https://localhost:8080/",
          "height": 268
        },
        "id": "Yk5PhehC_Y-w",
        "outputId": "0ff7fd87-d48a-4ee8-ad35-2d90552cafb8"
      },
      "source": [
        "D = np.linspace(20, 100, 30).reshape((5, 6))\n",
        "im = ax.imshow(D)\n",
        "\n",
        "cm = plt.get_cmap('jet')\n",
        "\n",
        "fig, ax = plt.subplots(1, 1)\n",
        "im = ax.imshow(D, cmap=cm)\n",
        "fig.colorbar(im, ax=ax)\n",
        "\n",
        "for edge, spine in ax.spines.items():\n",
        "    spine.set_visible(False)\n",
        "\n",
        "ax.set_yticks([0, 1, 2, 3, 4])\n",
        "ax.set_xticks([0, 1, 2, 3, 4, 5])\n",
        "ax.grid(False)"
      ],
      "execution_count": 10,
      "outputs": [
        {
          "output_type": "stream",
          "name": "stderr",
          "text": [
            "/usr/local/lib/python3.7/dist-packages/ipykernel_launcher.py:2: UserWarning: Attempted to set non-positive top ylim on a log-scaled axis.\n",
            "Invalid limit will be ignored.\n",
            "  \n",
            "/usr/local/lib/python3.7/dist-packages/ipykernel_launcher.py:8: MatplotlibDeprecationWarning: Auto-removal of grids by pcolor() and pcolormesh() is deprecated since 3.5 and will be removed two minor releases later; please call grid(False) first.\n",
            "  \n"
          ]
        },
        {
          "output_type": "display_data",
          "data": {
            "image/png": "[encoded data removed]",
            "text/plain": [
              "<Figure size 237.6x144 with 2 Axes>"
            ]
          },
          "metadata": {
            "needs_background": "light"
          }
        }
      ]
    },
    {
      "cell_type": "markdown",
      "metadata": {
        "id": "ubr7kuL_Bdj8"
      },
      "source": [
        "O magma, magma_r, viridis e outros já funcionam bem!"
      ]
    },
    {
      "cell_type": "code",
      "metadata": {
        "colab": {
          "base_uri": "https://localhost:8080/",
          "height": 216
        },
        "id": "8MXyUsyV_7z6",
        "outputId": "80f83fbc-4659-4883-e794-3cef668eccbb"
      },
      "source": [
        "D = np.linspace(20, 100, 30).reshape((5, 6))\n",
        "im = ax.imshow(D)\n",
        "\n",
        "cm = plt.get_cmap('magma_r')\n",
        "\n",
        "fig, ax = plt.subplots(1, 1)\n",
        "im = ax.imshow(D, cmap=cm)\n",
        "fig.colorbar(im, ax=ax)\n",
        "\n",
        "for edge, spine in ax.spines.items():\n",
        "    spine.set_visible(False)\n",
        "\n",
        "ax.set_yticks([0, 1, 2, 3, 4])\n",
        "ax.set_xticks([0, 1, 2, 3, 4, 5])\n",
        "ax.grid(False)"
      ],
      "execution_count": 11,
      "outputs": [
        {
          "output_type": "stream",
          "name": "stderr",
          "text": [
            "/usr/local/lib/python3.7/dist-packages/ipykernel_launcher.py:8: MatplotlibDeprecationWarning: Auto-removal of grids by pcolor() and pcolormesh() is deprecated since 3.5 and will be removed two minor releases later; please call grid(False) first.\n",
            "  \n"
          ]
        },
        {
          "output_type": "display_data",
          "data": {
            "image/png": "[encoded data removed]",
            "text/plain": [
              "<Figure size 237.6x144 with 2 Axes>"
            ]
          },
          "metadata": {
            "needs_background": "light"
          }
        }
      ]
    },
    {
      "cell_type": "code",
      "metadata": {
        "colab": {
          "base_uri": "https://localhost:8080/",
          "height": 216
        },
        "id": "cdh-MGZHBbpB",
        "outputId": "b0e7b8fb-33a2-49f1-a55f-b08250c505fb"
      },
      "source": [
        "D = np.linspace(20, 100, 30).reshape((5, 6))\n",
        "im = ax.imshow(D)\n",
        "\n",
        "cm = plt.get_cmap('magma')\n",
        "\n",
        "fig, ax = plt.subplots(1, 1)\n",
        "im = ax.imshow(D, cmap=cm)\n",
        "fig.colorbar(im, ax=ax)\n",
        "\n",
        "for edge, spine in ax.spines.items():\n",
        "    spine.set_visible(False)\n",
        "\n",
        "ax.set_yticks([0, 1, 2, 3, 4])\n",
        "ax.set_xticks([0, 1, 2, 3, 4, 5])\n",
        "ax.grid(False)"
      ],
      "execution_count": 12,
      "outputs": [
        {
          "output_type": "stream",
          "name": "stderr",
          "text": [
            "/usr/local/lib/python3.7/dist-packages/ipykernel_launcher.py:8: MatplotlibDeprecationWarning: Auto-removal of grids by pcolor() and pcolormesh() is deprecated since 3.5 and will be removed two minor releases later; please call grid(False) first.\n",
            "  \n"
          ]
        },
        {
          "output_type": "display_data",
          "data": {
            "image/png": "[encoded data removed]",
            "text/plain": [
              "<Figure size 237.6x144 with 2 Axes>"
            ]
          },
          "metadata": {
            "needs_background": "light"
          }
        }
      ]
    },
    {
      "cell_type": "code",
      "metadata": {
        "colab": {
          "base_uri": "https://localhost:8080/",
          "height": 216
        },
        "id": "4YvmnzuRBifv",
        "outputId": "1875b62a-af7a-4095-94d5-73bf0cdc794d"
      },
      "source": [
        "D = np.linspace(20, 100, 30).reshape((5, 6))\n",
        "im = ax.imshow(D)\n",
        "\n",
        "cm = plt.get_cmap('viridis')\n",
        "\n",
        "fig, ax = plt.subplots(1, 1)\n",
        "im = ax.imshow(D, cmap=cm)\n",
        "fig.colorbar(im, ax=ax)\n",
        "\n",
        "for edge, spine in ax.spines.items():\n",
        "    spine.set_visible(False)\n",
        "\n",
        "ax.set_yticks([0, 1, 2, 3, 4])\n",
        "ax.set_xticks([0, 1, 2, 3, 4, 5])\n",
        "ax.grid(False)"
      ],
      "execution_count": 13,
      "outputs": [
        {
          "output_type": "stream",
          "name": "stderr",
          "text": [
            "/usr/local/lib/python3.7/dist-packages/ipykernel_launcher.py:8: MatplotlibDeprecationWarning: Auto-removal of grids by pcolor() and pcolormesh() is deprecated since 3.5 and will be removed two minor releases later; please call grid(False) first.\n",
            "  \n"
          ]
        },
        {
          "output_type": "display_data",
          "data": {
            "image/png": "[encoded data removed]",
            "text/plain": [
              "<Figure size 237.6x144 with 2 Axes>"
            ]
          },
          "metadata": {
            "needs_background": "light"
          }
        }
      ]
    },
    {
      "cell_type": "code",
      "metadata": {
        "colab": {
          "base_uri": "https://localhost:8080/",
          "height": 216
        },
        "id": "YK3DkwyEBjuQ",
        "outputId": "7daf283f-85c6-4cf8-b65f-5dce6cdd72cf"
      },
      "source": [
        "D = np.linspace(20, 100, 30).reshape((5, 6))\n",
        "im = ax.imshow(D)\n",
        "\n",
        "cm = plt.get_cmap('viridis_r')\n",
        "\n",
        "fig, ax = plt.subplots(1, 1)\n",
        "im = ax.imshow(D, cmap=cm)\n",
        "fig.colorbar(im, ax=ax)\n",
        "\n",
        "for edge, spine in ax.spines.items():\n",
        "    spine.set_visible(False)\n",
        "\n",
        "ax.set_yticks([0, 1, 2, 3, 4])\n",
        "ax.set_xticks([0, 1, 2, 3, 4, 5])\n",
        "ax.grid(False)"
      ],
      "execution_count": 14,
      "outputs": [
        {
          "output_type": "stream",
          "name": "stderr",
          "text": [
            "/usr/local/lib/python3.7/dist-packages/ipykernel_launcher.py:8: MatplotlibDeprecationWarning: Auto-removal of grids by pcolor() and pcolormesh() is deprecated since 3.5 and will be removed two minor releases later; please call grid(False) first.\n",
            "  \n"
          ]
        },
        {
          "output_type": "display_data",
          "data": {
            "image/png": "[encoded data removed]",
            "text/plain": [
              "<Figure size 237.6x144 with 2 Axes>"
            ]
          },
          "metadata": {
            "needs_background": "light"
          }
        }
      ]
    },
    {
      "cell_type": "markdown",
      "metadata": {
        "id": "a3uqMTY3B0ok"
      },
      "source": [
        "## Em dados categóricos\n",
        "\n",
        "Podemos usar cores que ajudam o usuário. Abaixo eu quero que as cdfs mais perto tenham cores parecidas."
      ]
    },
    {
      "cell_type": "code",
      "metadata": {
        "id": "3JrjvZiOB4ZG"
      },
      "source": [
        "g1a = np.random.normal(loc=1, size=1000)\n",
        "g1b = np.random.normal(loc=1.5, size=1000)\n",
        "\n",
        "g2a = np.random.normal(loc=3, size=1000)\n",
        "g2b = np.random.normal(loc=3.5, size=1000)"
      ],
      "execution_count": 15,
      "outputs": []
    },
    {
      "cell_type": "code",
      "metadata": {
        "colab": {
          "base_uri": "https://localhost:8080/"
        },
        "id": "LPUstkciCBKd",
        "outputId": "4efd8a20-02ea-4e41-e3f5-c65695838c4c"
      },
      "source": [
        "from statsmodels.distributions.empirical_distribution import ECDF"
      ],
      "execution_count": 16,
      "outputs": [
        {
          "output_type": "stream",
          "name": "stderr",
          "text": [
            "/usr/local/lib/python3.7/dist-packages/statsmodels/tools/_testing.py:19: FutureWarning: pandas.util.testing is deprecated. Use the functions in the public API at pandas.testing instead.\n",
            "  import pandas.util.testing as tm\n"
          ]
        }
      ]
    },
    {
      "cell_type": "code",
      "metadata": {
        "id": "pd2kSls_CJHq"
      },
      "source": [
        "cdf1a = ECDF(g1a)\n",
        "cdf1b = ECDF(g1b)\n",
        "\n",
        "cdf2a = ECDF(g2a)\n",
        "cdf2b = ECDF(g2b)"
      ],
      "execution_count": 17,
      "outputs": []
    },
    {
      "cell_type": "code",
      "metadata": {
        "colab": {
          "base_uri": "https://localhost:8080/",
          "height": 174
        },
        "id": "gCELEdJECFO3",
        "outputId": "ba6569b1-0c71-4dc5-c1e4-3431f00edf77"
      },
      "source": [
        "fig, ax = plt.subplots(1, 1)\n",
        "ax.plot(cdf1a.x, cdf1a.y)\n",
        "ax.plot(cdf1b.x, cdf1b.y)\n",
        "\n",
        "ax.plot(cdf2a.x, cdf2a.y)\n",
        "ax.plot(cdf2b.x, cdf2b.y)"
      ],
      "execution_count": 18,
      "outputs": [
        {
          "output_type": "execute_result",
          "data": {
            "text/plain": [
              "[<matplotlib.lines.Line2D at 0x7f018e671410>]"
            ]
          },
          "metadata": {},
          "execution_count": 18
        },
        {
          "output_type": "display_data",
          "data": {
            "image/png": "[encoded data removed]",
            "text/plain": [
              "<Figure size 237.6x144 with 1 Axes>"
            ]
          },
          "metadata": {
            "needs_background": "light"
          }
        }
      ]
    },
    {
      "cell_type": "markdown",
      "metadata": {
        "id": "s5ej3n8tCrn6"
      },
      "source": [
        "Vamos usar o cmap paired para ajudar"
      ]
    },
    {
      "cell_type": "code",
      "metadata": {
        "colab": {
          "base_uri": "https://localhost:8080/",
          "height": 174
        },
        "id": "coRngx7CCSE4",
        "outputId": "b048efac-3167-4fd5-87b7-89dd23daeca4"
      },
      "source": [
        "fig, ax = plt.subplots(1, 1)\n",
        "\n",
        "cm = plt.get_cmap('Paired').colors\n",
        "\n",
        "ax.plot(cdf1a.x, cdf1a.y, color=cm[0])\n",
        "ax.plot(cdf1b.x, cdf1b.y, color=cm[1])\n",
        "\n",
        "ax.plot(cdf2a.x, cdf2a.y, color=cm[2])\n",
        "ax.plot(cdf2b.x, cdf2b.y, color=cm[3])"
      ],
      "execution_count": 19,
      "outputs": [
        {
          "output_type": "execute_result",
          "data": {
            "text/plain": [
              "[<matplotlib.lines.Line2D at 0x7f0180dcb8d0>]"
            ]
          },
          "metadata": {},
          "execution_count": 19
        },
        {
          "output_type": "display_data",
          "data": {
            "image/png": "[encoded data removed]",
            "text/plain": [
              "<Figure size 237.6x144 with 1 Axes>"
            ]
          },
          "metadata": {
            "needs_background": "light"
          }
        }
      ]
    },
    {
      "cell_type": "code",
      "metadata": {
        "id": "hzki8ECHDLub"
      },
      "source": [
        "## ou!"
      ],
      "execution_count": 20,
      "outputs": []
    },
    {
      "cell_type": "code",
      "metadata": {
        "colab": {
          "base_uri": "https://localhost:8080/",
          "height": 174
        },
        "id": "2VM-8umnC4zJ",
        "outputId": "2657fef3-3a96-4fee-ef9e-f9dcacd8a4a4"
      },
      "source": [
        "fig, ax = plt.subplots(1, 1)\n",
        "\n",
        "cm = plt.get_cmap('tab20').colors\n",
        "\n",
        "ax.plot(cdf1a.x, cdf1a.y, color=cm[0], ls='--')\n",
        "ax.plot(cdf1b.x, cdf1b.y, color=cm[1], ls='-.')\n",
        "\n",
        "ax.plot(cdf2a.x, cdf2a.y, color=cm[6], ls='-')\n",
        "ax.plot(cdf2b.x, cdf2b.y, color=cm[7], ls=':')"
      ],
      "execution_count": 21,
      "outputs": [
        {
          "output_type": "execute_result",
          "data": {
            "text/plain": [
              "[<matplotlib.lines.Line2D at 0x7f0180cbbdd0>]"
            ]
          },
          "metadata": {},
          "execution_count": 21
        },
        {
          "output_type": "display_data",
          "data": {
            "image/png": "[encoded data removed]",
            "text/plain": [
              "<Figure size 237.6x144 with 1 Axes>"
            ]
          },
          "metadata": {
            "needs_background": "light"
          }
        }
      ]
    }
  ]
}